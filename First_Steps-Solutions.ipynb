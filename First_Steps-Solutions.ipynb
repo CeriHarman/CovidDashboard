{
 "cells": [
  {
   "cell_type": "markdown",
   "metadata": {},
   "source": [
    "###  1- Hello World"
   ]
  },
  {
   "cell_type": "markdown",
   "metadata": {},
   "source": [
    "Write a program that prints \"Hello World\". Don't use the notebook:\n",
    "* Use an editor such as idle \n",
    "* create a file called hello.py\n",
    "* write the necessary code inside\n",
    "* save the file\n",
    "* run the file from the command line: python hello.py\n",
    "* watch ecstatically"
   ]
  },
  {
   "cell_type": "markdown",
   "metadata": {},
   "source": [
    "Your program should read:\n",
    "```\n",
    "print(\"Hello World\")\n",
    "```"
   ]
  },
  {
   "cell_type": "markdown",
   "metadata": {},
   "source": [
    "### 2 - Proof of residence"
   ]
  },
  {
   "cell_type": "markdown",
   "metadata": {},
   "source": [
    "Modify your program so that it prints your name and address as you would on an envelope"
   ]
  },
  {
   "cell_type": "code",
   "execution_count": null,
   "metadata": {},
   "outputs": [],
   "source": [
    "print(\"Ethan Ole\")\n",
    "print(\"Queen Mary, University of London\")\n",
    "print(\"Mile End Road\")\n",
    "print(\"London E1 4NS\")"
   ]
  },
  {
   "cell_type": "markdown",
   "metadata": {},
   "source": [
    "### 3 - Bugger off"
   ]
  },
  {
   "cell_type": "markdown",
   "metadata": {},
   "source": [
    "Write a program that asks for your name and insults you."
   ]
  },
  {
   "cell_type": "code",
   "execution_count": null,
   "metadata": {},
   "outputs": [],
   "source": [
    "name=input(\"What's your name, stranger? \")\n",
    "print(\"Look at \"+ name + \" here\")\n",
    "print(\"I bet (s)he can't tell an HP48 calculator from a VT100 terminal\")"
   ]
  },
  {
   "cell_type": "markdown",
   "metadata": {},
   "source": [
    "### 4 - Star Trek"
   ]
  },
  {
   "cell_type": "markdown",
   "metadata": {},
   "source": [
    "Write a program that asks you for a speed in km/h and converts it to furlongs/fortnight (ask Google for help with the conversion factor). Use it to convert the speed of light to furlongs/fortnight."
   ]
  },
  {
   "cell_type": "code",
   "execution_count": null,
   "metadata": {},
   "outputs": [],
   "source": [
    "conv_fact=1670.25\n",
    "str_speed=input(\"Speed in km/h? \")\n",
    "speed=float(str_speed)*conv_fact\n",
    "print(str_speed+\" km/h is \" + str(speed) + \" furlongs/fortnight\")"
   ]
  },
  {
   "cell_type": "markdown",
   "metadata": {},
   "source": [
    "### 5 - The real deal"
   ]
  },
  {
   "cell_type": "markdown",
   "metadata": {},
   "source": [
    "Write a program that asks for the length and width of your average studio shoebox in meters. Multiply the area by 19500 to obtain its price in Kensington, in pounds. Store in a variable and print the result including units. \n",
    "\n",
    "Multiply the average UK salary of £26500 by 0.75 to deduce taxes. Divide the price by the net salary to obtain the number of man-years it takes the average bloke to pay for the average shoebox.  \n",
    "\n",
    "Print all results including units. Use meaningful variable names for all the parameters (salary, cost per square meters). Include comments."
   ]
  },
  {
   "cell_type": "code",
   "execution_count": null,
   "metadata": {},
   "outputs": [],
   "source": [
    "unit_cost=19500 # cost of a square meter\n",
    "avg_salary=26500 # avg UK salary\n",
    "net_ratio=0.75 # after taxes\n",
    "\n",
    "str_length=input(\"Length of room? (m) \")\n",
    "str_width=input(\"Width of room? (m) \")\n",
    "length=float(str_length)\n",
    "width=float(str_width)\n",
    "\n",
    "# estimated price and salary multiplier\n",
    "price=width*length*unit_cost\n",
    "net_salary=avg_salary*0.75\n",
    "years=price/net_salary\n",
    "\n",
    "print(\"Estimated price (in GBP): \", price)\n",
    "print(\"Number of salary years: \", years)"
   ]
  },
  {
   "cell_type": "markdown",
   "metadata": {},
   "source": [
    "### 6 - Happy birthday"
   ]
  },
  {
   "cell_type": "markdown",
   "metadata": {},
   "source": [
    "Now for something a bit more cheerful: write a program that asks you for your age and prints \"Happy Birthday\" once for each year. Use the * operator on a string to do that."
   ]
  },
  {
   "cell_type": "code",
   "execution_count": null,
   "metadata": {},
   "outputs": [],
   "source": [
    "age=input(\"How young are you? \")\n",
    "# \\n stands for a newline character\n",
    "print(\"Happy Birthday!\\n\" * int(age)) "
   ]
  },
  {
   "cell_type": "markdown",
   "metadata": {},
   "source": [
    "### 7 - Operator madness"
   ]
  },
  {
   "cell_type": "markdown",
   "metadata": {},
   "source": [
    "Look up Python operators here:\n",
    "http://www.tutorialspoint.com/python/python_basic_operators.htm\n",
    "\n",
    "Try out all Arithmetic, Comparison, and Assignment operators in the box below. Feel free to define variables, create more boxes, write down notes and ask questions. Remember to save this notebook when you are done."
   ]
  },
  {
   "cell_type": "code",
   "execution_count": null,
   "metadata": {},
   "outputs": [],
   "source": []
  },
  {
   "cell_type": "markdown",
   "metadata": {},
   "source": [
    "### 8 - Tea for You"
   ]
  },
  {
   "cell_type": "markdown",
   "metadata": {},
   "source": [
    "Write a program that replaces 'U' with 'T' in RNA sequences, making sure that it works whether the string is uppercase or lowercase and always outputs an uppercase string. Hint: to obtain help on, for instance, the *str.replace()* method type *help(str.replace)* in the box below. Typing *dir(str)* will list all methods."
   ]
  },
  {
   "cell_type": "code",
   "execution_count": null,
   "metadata": {},
   "outputs": [],
   "source": [
    "rna=\"auccguuac\"\n",
    "rna=rna.upper()\n",
    "rna=rna.replace('U','T')\n",
    "print (rna)"
   ]
  },
  {
   "cell_type": "markdown",
   "metadata": {},
   "source": [
    "### 9 - With complements"
   ]
  },
  {
   "cell_type": "markdown",
   "metadata": {},
   "source": [
    "This is stretching it a bit, but there is a way to use *str.replace()* to transform a DNA sequence into its complement. Can you do that? Write a program that asks you for a sequence and outputs the complement."
   ]
  },
  {
   "cell_type": "code",
   "execution_count": null,
   "metadata": {},
   "outputs": [],
   "source": [
    "seq=input(\"Give me a sequence? \")\n",
    "seq=seq.upper() # make sure we do not have lowercase letters\n",
    "# use lowercase to make sure the same letter won't\n",
    "# be converted twice\n",
    "seq=seq.replace('A','t')\n",
    "seq=seq.replace('T','a')\n",
    "seq=seq.replace('C','g')\n",
    "seq=seq.replace('G','c')\n",
    "# back to uppercase\n",
    "seq=seq.upper()\n",
    "print(seq)"
   ]
  },
  {
   "cell_type": "code",
   "execution_count": null,
   "metadata": {},
   "outputs": [],
   "source": []
  }
 ],
 "metadata": {
  "kernelspec": {
   "display_name": "Python 3",
   "language": "python",
   "name": "python3"
  },
  "language_info": {
   "codemirror_mode": {
    "name": "ipython",
    "version": 3
   },
   "file_extension": ".py",
   "mimetype": "text/x-python",
   "name": "python",
   "nbconvert_exporter": "python",
   "pygments_lexer": "ipython3",
   "version": "3.6.9"
  }
 },
 "nbformat": 4,
 "nbformat_minor": 1
}
